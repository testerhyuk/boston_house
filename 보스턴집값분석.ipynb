{
 "cells": [
  {
   "cell_type": "markdown",
   "metadata": {
    "id": "w6kiuFl8pGOj"
   },
   "source": [
    "# 보스톤 집값 데이터"
   ]
  },
  {
   "cell_type": "markdown",
   "metadata": {
    "id": "D5Z2UiK3JbUd"
   },
   "source": [
    "![](https://ichi.pro/assets/images/max/724/0*3r3cqJ3Q875mQXVV)"
   ]
  },
  {
   "cell_type": "markdown",
   "metadata": {
    "id": "W07fwF8zeix4"
   },
   "source": [
    "|\t변수\t|\t설명\t|\n",
    "|\t----\t|\t----\t|\n",
    "|\tmedv\t|\t타운별 집값(중위수. 단위 1000달러)\t|\n",
    "|\tcrim\t|\t범죄율\t|\n",
    "|\tzn2\t|\t25,000 평방피트를 초과 거주지역 비율 (범주: 0-하, 1-중, 2-상)\t|\n",
    "|\tindus\t|\t비소매상업지역 면적 비율\t|\n",
    "|\tchas\t|\t찰스강변 위치(범주 : 강변1, 아니면 0)\t|\n",
    "|\tnox\t|\t일산화질소 농도\t|\n",
    "|\trm\t|\t주택당 방 수\t|\n",
    "|\tage\t|\t1940년 이전에 건축된 주택의 비율\t|\n",
    "|\tdis\t|\t직업센터의 거리\t|\n",
    "|\trad\t|\t방사형 고속도로까지의 거리\t|\n",
    "|\ttax\t|\t재산세율\t|\n",
    "|\tptratio\t|\t학생/교사 비율\t|\n",
    "|\tblack\t|\t인구 중 흑인 비율\t|\n",
    "|\tlstat\t|\t인구 중 하위 계층 비율\t|\n"
   ]
  },
  {
   "cell_type": "code",
   "execution_count": 1,
   "metadata": {},
   "outputs": [],
   "source": [
    "import pandas as pd\n",
    "import numpy as np\n",
    "\n",
    "import matplotlib.pyplot as plt\n",
    "import seaborn as sns\n",
    "import scipy.stats as spst\n",
    "from statsmodels.graphics.mosaicplot import mosaic\n",
    "import statsmodels.api as sm\n",
    "import warnings   \n",
    "warnings.filterwarnings(\"ignore\")"
   ]
  },
  {
   "cell_type": "code",
   "execution_count": 2,
   "metadata": {
    "colab": {
     "base_uri": "https://localhost:8080/",
     "height": 206
    },
    "executionInfo": {
     "elapsed": 1012,
     "status": "ok",
     "timestamp": 1641479916881,
     "user": {
      "displayName": "한기영",
      "photoUrl": "https://lh3.googleusercontent.com/a/default-user=s64",
      "userId": "13049187003176135487"
     },
     "user_tz": -540
    },
    "id": "08FGuKtjpGOj",
    "outputId": "97518ef7-2d5b-4baf-ad9c-6e7d9680c651"
   },
   "outputs": [
    {
     "data": {
      "text/html": [
       "<div>\n",
       "<style scoped>\n",
       "    .dataframe tbody tr th:only-of-type {\n",
       "        vertical-align: middle;\n",
       "    }\n",
       "\n",
       "    .dataframe tbody tr th {\n",
       "        vertical-align: top;\n",
       "    }\n",
       "\n",
       "    .dataframe thead th {\n",
       "        text-align: right;\n",
       "    }\n",
       "</style>\n",
       "<table border=\"1\" class=\"dataframe\">\n",
       "  <thead>\n",
       "    <tr style=\"text-align: right;\">\n",
       "      <th></th>\n",
       "      <th>crim</th>\n",
       "      <th>indus</th>\n",
       "      <th>chas</th>\n",
       "      <th>nox</th>\n",
       "      <th>rm</th>\n",
       "      <th>age</th>\n",
       "      <th>dis</th>\n",
       "      <th>rad</th>\n",
       "      <th>tax</th>\n",
       "      <th>ptratio</th>\n",
       "      <th>black</th>\n",
       "      <th>lstat</th>\n",
       "      <th>medv</th>\n",
       "      <th>zn2</th>\n",
       "    </tr>\n",
       "  </thead>\n",
       "  <tbody>\n",
       "    <tr>\n",
       "      <th>0</th>\n",
       "      <td>0.00632</td>\n",
       "      <td>2.31</td>\n",
       "      <td>0</td>\n",
       "      <td>0.538</td>\n",
       "      <td>6.575</td>\n",
       "      <td>65.2</td>\n",
       "      <td>4.0900</td>\n",
       "      <td>1</td>\n",
       "      <td>296</td>\n",
       "      <td>15.3</td>\n",
       "      <td>396.90</td>\n",
       "      <td>4.98</td>\n",
       "      <td>24.0</td>\n",
       "      <td>1</td>\n",
       "    </tr>\n",
       "    <tr>\n",
       "      <th>1</th>\n",
       "      <td>0.02731</td>\n",
       "      <td>7.07</td>\n",
       "      <td>0</td>\n",
       "      <td>0.469</td>\n",
       "      <td>6.421</td>\n",
       "      <td>78.9</td>\n",
       "      <td>4.9671</td>\n",
       "      <td>2</td>\n",
       "      <td>242</td>\n",
       "      <td>17.8</td>\n",
       "      <td>396.90</td>\n",
       "      <td>9.14</td>\n",
       "      <td>21.6</td>\n",
       "      <td>0</td>\n",
       "    </tr>\n",
       "    <tr>\n",
       "      <th>2</th>\n",
       "      <td>0.02729</td>\n",
       "      <td>7.07</td>\n",
       "      <td>0</td>\n",
       "      <td>0.469</td>\n",
       "      <td>7.185</td>\n",
       "      <td>61.1</td>\n",
       "      <td>4.9671</td>\n",
       "      <td>2</td>\n",
       "      <td>242</td>\n",
       "      <td>17.8</td>\n",
       "      <td>392.83</td>\n",
       "      <td>4.03</td>\n",
       "      <td>34.7</td>\n",
       "      <td>0</td>\n",
       "    </tr>\n",
       "    <tr>\n",
       "      <th>3</th>\n",
       "      <td>0.03237</td>\n",
       "      <td>2.18</td>\n",
       "      <td>0</td>\n",
       "      <td>0.458</td>\n",
       "      <td>6.998</td>\n",
       "      <td>45.8</td>\n",
       "      <td>6.0622</td>\n",
       "      <td>3</td>\n",
       "      <td>222</td>\n",
       "      <td>18.7</td>\n",
       "      <td>394.63</td>\n",
       "      <td>2.94</td>\n",
       "      <td>33.4</td>\n",
       "      <td>0</td>\n",
       "    </tr>\n",
       "    <tr>\n",
       "      <th>4</th>\n",
       "      <td>0.06905</td>\n",
       "      <td>2.18</td>\n",
       "      <td>0</td>\n",
       "      <td>0.458</td>\n",
       "      <td>7.147</td>\n",
       "      <td>54.2</td>\n",
       "      <td>6.0622</td>\n",
       "      <td>3</td>\n",
       "      <td>222</td>\n",
       "      <td>18.7</td>\n",
       "      <td>396.90</td>\n",
       "      <td>5.33</td>\n",
       "      <td>36.2</td>\n",
       "      <td>0</td>\n",
       "    </tr>\n",
       "  </tbody>\n",
       "</table>\n",
       "</div>"
      ],
      "text/plain": [
       "      crim  indus  chas    nox     rm   age     dis  rad  tax  ptratio  \\\n",
       "0  0.00632   2.31     0  0.538  6.575  65.2  4.0900    1  296     15.3   \n",
       "1  0.02731   7.07     0  0.469  6.421  78.9  4.9671    2  242     17.8   \n",
       "2  0.02729   7.07     0  0.469  7.185  61.1  4.9671    2  242     17.8   \n",
       "3  0.03237   2.18     0  0.458  6.998  45.8  6.0622    3  222     18.7   \n",
       "4  0.06905   2.18     0  0.458  7.147  54.2  6.0622    3  222     18.7   \n",
       "\n",
       "    black  lstat  medv  zn2  \n",
       "0  396.90   4.98  24.0    1  \n",
       "1  396.90   9.14  21.6    0  \n",
       "2  392.83   4.03  34.7    0  \n",
       "3  394.63   2.94  33.4    0  \n",
       "4  396.90   5.33  36.2    0  "
      ]
     },
     "execution_count": 2,
     "metadata": {},
     "output_type": "execute_result"
    }
   ],
   "source": [
    "boston = pd.read_csv('https://bit.ly/3EuWvZw')\n",
    "boston.head()"
   ]
  },
  {
   "cell_type": "markdown",
   "metadata": {
    "id": "NZ6vcDwPsrhH"
   },
   "source": [
    "* target : medv\n",
    "\n"
   ]
  },
  {
   "cell_type": "code",
   "execution_count": 3,
   "metadata": {
    "id": "XRjD5pc_swv0"
   },
   "outputs": [],
   "source": [
    "target = 'medv'"
   ]
  },
  {
   "cell_type": "markdown",
   "metadata": {
    "id": "7KXxI1ojLGfI"
   },
   "source": [
    "### (1) 숫자형 X --> 숫자형 Y\n",
    "\n",
    "* 시각화 : scatter, jointplot  \n",
    "* 수치화 : 상관분석  \n",
    "* 관계 평가"
   ]
  },
  {
   "cell_type": "markdown",
   "metadata": {
    "id": "PNYSvDDBdtZA"
   },
   "source": [
    "#### ① crim(범죄율) --> medv(집값)"
   ]
  },
  {
   "cell_type": "code",
   "execution_count": 4,
   "metadata": {
    "id": "9PCkrvWzs2Hc"
   },
   "outputs": [],
   "source": [
    "feature = 'crim'"
   ]
  },
  {
   "cell_type": "markdown",
   "metadata": {
    "id": "pOr1WyEqLgeF"
   },
   "source": [
    "1) 시각화 : scatter, jointplot "
   ]
  },
  {
   "cell_type": "code",
   "execution_count": 5,
   "metadata": {
    "colab": {
     "base_uri": "https://localhost:8080/",
     "height": 441
    },
    "executionInfo": {
     "elapsed": 1430,
     "status": "ok",
     "timestamp": 1641479918307,
     "user": {
      "displayName": "한기영",
      "photoUrl": "https://lh3.googleusercontent.com/a/default-user=s64",
      "userId": "13049187003176135487"
     },
     "user_tz": -540
    },
    "id": "NRIsridhK3el",
    "outputId": "c13825cd-ceb4-4367-ba33-f25e09df8941"
   },
   "outputs": [
    {
     "data": {
      "image/png": "[encoded data removed]",
      "text/plain": [
       "<Figure size 432x432 with 3 Axes>"
      ]
     },
     "metadata": {
      "needs_background": "light"
     },
     "output_type": "display_data"
    }
   ],
   "source": [
    "sns.jointplot(x = feature, y = target, data = boston)\n",
    "plt.show()"
   ]
  },
  {
   "cell_type": "markdown",
   "metadata": {
    "id": "6H1XUqWEIZ0c"
   },
   "source": [
    "2) 수치화 : 상관분석"
   ]
  },
  {
   "cell_type": "code",
   "execution_count": 6,
   "metadata": {
    "colab": {
     "base_uri": "https://localhost:8080/"
    },
    "executionInfo": {
     "elapsed": 13,
     "status": "ok",
     "timestamp": 1641479918308,
     "user": {
      "displayName": "한기영",
      "photoUrl": "https://lh3.googleusercontent.com/a/default-user=s64",
      "userId": "13049187003176135487"
     },
     "user_tz": -540
    },
    "id": "Zj4wUhSpLq-6",
    "outputId": "35453c07-9b8d-48aa-c4ed-c04672e14536"
   },
   "outputs": [
    {
     "data": {
      "text/plain": [
       "(-0.38830460858681154, 1.1739870821941207e-19)"
      ]
     },
     "execution_count": 6,
     "metadata": {},
     "output_type": "execute_result"
    }
   ],
   "source": [
    "spst.pearsonr(boston[feature], boston[target])"
   ]
  },
  {
   "cell_type": "markdown",
   "metadata": {
    "id": "o9aiDpJZIZi-"
   },
   "source": [
    "3) 관계 평가하기"
   ]
  },
  {
   "cell_type": "markdown",
   "metadata": {
    "id": "h7MQ5fZfLvxl"
   },
   "source": [
    "* 범죄율이 높아질수록 집값은 낮아지는 경향이 분명히 보입니다.\n",
    "* 상관계수가 -0.388 이므로 중간 정도의 관계라고 볼 수 있습니다.\n",
    "* 여기서 P value는 상관계수가 0인지 아닌지에 대한 검정 의미 입니다."
   ]
  },
  {
   "cell_type": "markdown",
   "metadata": {
    "id": "sKZWnu78IZT0"
   },
   "source": [
    "4) 추가 분석할 내용 정리"
   ]
  },
  {
   "cell_type": "markdown",
   "metadata": {
    "id": "U9hQezqHLzJf"
   },
   "source": [
    "* 범죄율 거의 0 인 지역이 집중되어 있고, 집값의 범위가 상당히 넓습니다. 그래서 따로 띄어 놓고 분석할 필요가 있습니다.\n",
    "* 집값이 5만 달러에 몰려 있는 부분은 왜 그러한지 확인 필요."
   ]
  },
  {
   "cell_type": "markdown",
   "metadata": {
    "id": "0OMgl0CWrPqj"
   },
   "source": [
    "#### ② ptratio(교사학생 비율) --> medv(집값)"
   ]
  },
  {
   "cell_type": "code",
   "execution_count": 7,
   "metadata": {
    "id": "G-Yn16R2tTK-"
   },
   "outputs": [],
   "source": [
    "feature = 'ptratio'"
   ]
  },
  {
   "cell_type": "markdown",
   "metadata": {
    "id": "DdXZAd2tL_jw"
   },
   "source": [
    "1) 시각화 : scatter, jointplot "
   ]
  },
  {
   "cell_type": "code",
   "execution_count": 8,
   "metadata": {
    "colab": {
     "base_uri": "https://localhost:8080/",
     "height": 441
    },
    "executionInfo": {
     "elapsed": 648,
     "status": "ok",
     "timestamp": 1641479918945,
     "user": {
      "displayName": "한기영",
      "photoUrl": "https://lh3.googleusercontent.com/a/default-user=s64",
      "userId": "13049187003176135487"
     },
     "user_tz": -540
    },
    "id": "_WctM0wOL_jw",
    "outputId": "e5a572bb-1475-420d-c6e5-ca61e7a0c612"
   },
   "outputs": [
    {
     "data": {
      "image/png": "[encoded data removed]",
      "text/plain": [
       "<Figure size 432x432 with 3 Axes>"
      ]
     },
     "metadata": {
      "needs_background": "light"
     },
     "output_type": "display_data"
    }
   ],
   "source": [
    "sns.jointplot(x = feature, y = target, data = boston)\n",
    "plt.show()"
   ]
  },
  {
   "cell_type": "markdown",
   "metadata": {
    "id": "w6IJbmxLL_jx"
   },
   "source": [
    "2) 수치화 : 상관분석"
   ]
  },
  {
   "cell_type": "code",
   "execution_count": 9,
   "metadata": {
    "colab": {
     "base_uri": "https://localhost:8080/"
    },
    "executionInfo": {
     "elapsed": 6,
     "status": "ok",
     "timestamp": 1641479918946,
     "user": {
      "displayName": "한기영",
      "photoUrl": "https://lh3.googleusercontent.com/a/default-user=s64",
      "userId": "13049187003176135487"
     },
     "user_tz": -540
    },
    "id": "tKUXkCSjL_jx",
    "outputId": "b01df682-a02b-493c-9151-4e4420873d20"
   },
   "outputs": [
    {
     "data": {
      "text/plain": [
       "(-0.5077866855375619, 1.609509478472518e-34)"
      ]
     },
     "execution_count": 9,
     "metadata": {},
     "output_type": "execute_result"
    }
   ],
   "source": [
    "spst.pearsonr(boston[feature], boston[target])"
   ]
  },
  {
   "cell_type": "markdown",
   "metadata": {
    "id": "ULW2QkFGL_jx"
   },
   "source": [
    "3) 관계 평가하기"
   ]
  },
  {
   "cell_type": "markdown",
   "metadata": {
    "id": "SuDavlLUL_jy"
   },
   "source": [
    "* 상관분석 상에는 좀 강한 상관관계를 나타냅니다."
   ]
  },
  {
   "cell_type": "markdown",
   "metadata": {
    "id": "XSZ3m3DvL_jy"
   },
   "source": [
    "4) 추가 분석할 내용 정리"
   ]
  },
  {
   "cell_type": "markdown",
   "metadata": {
    "id": "xRSe-oWVL_jy"
   },
   "source": [
    "* 상관계수는 연속된 두 숫자형간의 관계가 직선에 가까운지를 나타내는데, 직선 보다는 계단형으로 보입니다.\n",
    "* 차트에서는 교사1명당 학생수가 14명 이전, 14 ~ 20, 20 ~ 으로 구분되어 보입니다.\n",
    "* 이 구간을 범주로 변환해서 비교해볼 필요가 있습니다."
   ]
  },
  {
   "cell_type": "code",
   "execution_count": 10,
   "metadata": {},
   "outputs": [
    {
     "data": {
      "text/html": [
       "<div>\n",
       "<style scoped>\n",
       "    .dataframe tbody tr th:only-of-type {\n",
       "        vertical-align: middle;\n",
       "    }\n",
       "\n",
       "    .dataframe tbody tr th {\n",
       "        vertical-align: top;\n",
       "    }\n",
       "\n",
       "    .dataframe thead th {\n",
       "        text-align: right;\n",
       "    }\n",
       "</style>\n",
       "<table border=\"1\" class=\"dataframe\">\n",
       "  <thead>\n",
       "    <tr style=\"text-align: right;\">\n",
       "      <th></th>\n",
       "      <th>crim</th>\n",
       "      <th>indus</th>\n",
       "      <th>chas</th>\n",
       "      <th>nox</th>\n",
       "      <th>rm</th>\n",
       "      <th>age</th>\n",
       "      <th>dis</th>\n",
       "      <th>rad</th>\n",
       "      <th>tax</th>\n",
       "      <th>ptratio</th>\n",
       "      <th>black</th>\n",
       "      <th>lstat</th>\n",
       "      <th>medv</th>\n",
       "      <th>zn2</th>\n",
       "      <th>ptratio2</th>\n",
       "    </tr>\n",
       "  </thead>\n",
       "  <tbody>\n",
       "    <tr>\n",
       "      <th>0</th>\n",
       "      <td>0.00632</td>\n",
       "      <td>2.31</td>\n",
       "      <td>0</td>\n",
       "      <td>0.538</td>\n",
       "      <td>6.575</td>\n",
       "      <td>65.2</td>\n",
       "      <td>4.0900</td>\n",
       "      <td>1</td>\n",
       "      <td>296</td>\n",
       "      <td>15.3</td>\n",
       "      <td>396.90</td>\n",
       "      <td>4.98</td>\n",
       "      <td>24.0</td>\n",
       "      <td>1</td>\n",
       "      <td>M</td>\n",
       "    </tr>\n",
       "    <tr>\n",
       "      <th>1</th>\n",
       "      <td>0.02731</td>\n",
       "      <td>7.07</td>\n",
       "      <td>0</td>\n",
       "      <td>0.469</td>\n",
       "      <td>6.421</td>\n",
       "      <td>78.9</td>\n",
       "      <td>4.9671</td>\n",
       "      <td>2</td>\n",
       "      <td>242</td>\n",
       "      <td>17.8</td>\n",
       "      <td>396.90</td>\n",
       "      <td>9.14</td>\n",
       "      <td>21.6</td>\n",
       "      <td>0</td>\n",
       "      <td>M</td>\n",
       "    </tr>\n",
       "    <tr>\n",
       "      <th>2</th>\n",
       "      <td>0.02729</td>\n",
       "      <td>7.07</td>\n",
       "      <td>0</td>\n",
       "      <td>0.469</td>\n",
       "      <td>7.185</td>\n",
       "      <td>61.1</td>\n",
       "      <td>4.9671</td>\n",
       "      <td>2</td>\n",
       "      <td>242</td>\n",
       "      <td>17.8</td>\n",
       "      <td>392.83</td>\n",
       "      <td>4.03</td>\n",
       "      <td>34.7</td>\n",
       "      <td>0</td>\n",
       "      <td>M</td>\n",
       "    </tr>\n",
       "    <tr>\n",
       "      <th>3</th>\n",
       "      <td>0.03237</td>\n",
       "      <td>2.18</td>\n",
       "      <td>0</td>\n",
       "      <td>0.458</td>\n",
       "      <td>6.998</td>\n",
       "      <td>45.8</td>\n",
       "      <td>6.0622</td>\n",
       "      <td>3</td>\n",
       "      <td>222</td>\n",
       "      <td>18.7</td>\n",
       "      <td>394.63</td>\n",
       "      <td>2.94</td>\n",
       "      <td>33.4</td>\n",
       "      <td>0</td>\n",
       "      <td>M</td>\n",
       "    </tr>\n",
       "    <tr>\n",
       "      <th>4</th>\n",
       "      <td>0.06905</td>\n",
       "      <td>2.18</td>\n",
       "      <td>0</td>\n",
       "      <td>0.458</td>\n",
       "      <td>7.147</td>\n",
       "      <td>54.2</td>\n",
       "      <td>6.0622</td>\n",
       "      <td>3</td>\n",
       "      <td>222</td>\n",
       "      <td>18.7</td>\n",
       "      <td>396.90</td>\n",
       "      <td>5.33</td>\n",
       "      <td>36.2</td>\n",
       "      <td>0</td>\n",
       "      <td>M</td>\n",
       "    </tr>\n",
       "  </tbody>\n",
       "</table>\n",
       "</div>"
      ],
      "text/plain": [
       "      crim  indus  chas    nox     rm   age     dis  rad  tax  ptratio  \\\n",
       "0  0.00632   2.31     0  0.538  6.575  65.2  4.0900    1  296     15.3   \n",
       "1  0.02731   7.07     0  0.469  6.421  78.9  4.9671    2  242     17.8   \n",
       "2  0.02729   7.07     0  0.469  7.185  61.1  4.9671    2  242     17.8   \n",
       "3  0.03237   2.18     0  0.458  6.998  45.8  6.0622    3  222     18.7   \n",
       "4  0.06905   2.18     0  0.458  7.147  54.2  6.0622    3  222     18.7   \n",
       "\n",
       "    black  lstat  medv  zn2 ptratio2  \n",
       "0  396.90   4.98  24.0    1        M  \n",
       "1  396.90   9.14  21.6    0        M  \n",
       "2  392.83   4.03  34.7    0        M  \n",
       "3  394.63   2.94  33.4    0        M  \n",
       "4  396.90   5.33  36.2    0        M  "
      ]
     },
     "execution_count": 10,
     "metadata": {},
     "output_type": "execute_result"
    }
   ],
   "source": [
    "bins = [0, 14, 20, 50]\n",
    "labels = ['L','M','H']\n",
    "boston['ptratio2'] = pd.cut(boston['ptratio'], right = False\n",
    "                           , bins = bins, labels = labels)\n",
    "boston.head()"
   ]
  },
  {
   "cell_type": "code",
   "execution_count": 11,
   "metadata": {},
   "outputs": [
    {
     "data": {
      "image/png": "[encoded data removed]",
      "text/plain": [
       "<Figure size 432x288 with 1 Axes>"
      ]
     },
     "metadata": {
      "needs_background": "light"
     },
     "output_type": "display_data"
    },
    {
     "data": {
      "text/plain": [
       "F_onewayResult(statistic=106.35920595953505, pvalue=2.997005581712739e-39)"
      ]
     },
     "execution_count": 11,
     "metadata": {},
     "output_type": "execute_result"
    }
   ],
   "source": [
    "sns.barplot(x='ptratio2', y=target, data=boston)\n",
    "plt.show()\n",
    "\n",
    "pt2_l = boston.loc[boston['ptratio2']=='L', target]\n",
    "pt2_m = boston.loc[boston['ptratio2']=='M', target]\n",
    "pt2_h = boston.loc[boston['ptratio2']=='H', target]\n",
    "\n",
    "spst.f_oneway(pt2_l, pt2_m, pt2_h)\n"
   ]
  },
  {
   "cell_type": "markdown",
   "metadata": {},
   "source": [
    "각 그룹별 평균 관점에서 볼때, 더 차이가 명확해 보임!"
   ]
  },
  {
   "cell_type": "markdown",
   "metadata": {
    "id": "dE0Tdvu4rY42"
   },
   "source": [
    "#### ③ lstat(하위계층 비율) --> medv(집값)"
   ]
  },
  {
   "cell_type": "code",
   "execution_count": 12,
   "metadata": {
    "id": "9_jUQ1P_tehM"
   },
   "outputs": [],
   "source": [
    "feature = 'lstat'"
   ]
  },
  {
   "cell_type": "markdown",
   "metadata": {
    "id": "OVQhvMUtME6Q"
   },
   "source": [
    "1) 시각화 : scatter, jointplot "
   ]
  },
  {
   "cell_type": "code",
   "execution_count": 13,
   "metadata": {
    "colab": {
     "base_uri": "https://localhost:8080/",
     "height": 441
    },
    "executionInfo": {
     "elapsed": 1498,
     "status": "ok",
     "timestamp": 1641479920440,
     "user": {
      "displayName": "한기영",
      "photoUrl": "https://lh3.googleusercontent.com/a/default-user=s64",
      "userId": "13049187003176135487"
     },
     "user_tz": -540
    },
    "id": "rLHoiBfbME6R",
    "outputId": "d1df7207-b9c7-48cd-e575-2a94be1587e6"
   },
   "outputs": [
    {
     "data": {
      "image/png": "[encoded data removed]",
      "text/plain": [
       "<Figure size 432x432 with 3 Axes>"
      ]
     },
     "metadata": {
      "needs_background": "light"
     },
     "output_type": "display_data"
    }
   ],
   "source": [
    "sns.jointplot(x = feature, y = target, data = boston)\n",
    "plt.show()"
   ]
  },
  {
   "cell_type": "markdown",
   "metadata": {
    "id": "M38Y9rivME6R"
   },
   "source": [
    "2) 수치화 : 상관분석"
   ]
  },
  {
   "cell_type": "code",
   "execution_count": 14,
   "metadata": {
    "colab": {
     "base_uri": "https://localhost:8080/"
    },
    "executionInfo": {
     "elapsed": 17,
     "status": "ok",
     "timestamp": 1641479920441,
     "user": {
      "displayName": "한기영",
      "photoUrl": "https://lh3.googleusercontent.com/a/default-user=s64",
      "userId": "13049187003176135487"
     },
     "user_tz": -540
    },
    "id": "dufK5f2BME6R",
    "outputId": "b6057c3d-591d-42f5-a77d-73244336130c"
   },
   "outputs": [
    {
     "data": {
      "text/plain": [
       "(-0.737662726174015, 5.081103394386392e-88)"
      ]
     },
     "execution_count": 14,
     "metadata": {},
     "output_type": "execute_result"
    }
   ],
   "source": [
    "spst.pearsonr(boston[feature], boston[target])"
   ]
  },
  {
   "cell_type": "markdown",
   "metadata": {
    "id": "sNGkGjUqME6R"
   },
   "source": [
    "3) 관계 평가하기"
   ]
  },
  {
   "cell_type": "markdown",
   "metadata": {
    "id": "wW-qH489ME6R"
   },
   "source": [
    "* 강한 상관관계!"
   ]
  },
  {
   "cell_type": "markdown",
   "metadata": {
    "id": "Xf6F5QI9MamF"
   },
   "source": [
    "### (2) 범주형 X --> 숫자형 Y\n",
    "\n",
    "* 시각화 : 평균비교 barplot\n",
    "* 수치화 : t-test, anova\n",
    "* 관계 평가"
   ]
  },
  {
   "cell_type": "markdown",
   "metadata": {
    "id": "AR6rKTjTMamG"
   },
   "source": [
    "#### ① chas(찰스강변) --> medv(집값)"
   ]
  },
  {
   "cell_type": "code",
   "execution_count": 15,
   "metadata": {
    "id": "8VqeJJgQyfU4"
   },
   "outputs": [],
   "source": [
    "feature = 'chas'"
   ]
  },
  {
   "cell_type": "markdown",
   "metadata": {
    "id": "DZt0uV1fMamG"
   },
   "source": [
    "1) 시각화 : 평균비교 barplot"
   ]
  },
  {
   "cell_type": "code",
   "execution_count": 16,
   "metadata": {
    "colab": {
     "base_uri": "https://localhost:8080/",
     "height": 279
    },
    "executionInfo": {
     "elapsed": 19,
     "status": "ok",
     "timestamp": 1641479920448,
     "user": {
      "displayName": "한기영",
      "photoUrl": "https://lh3.googleusercontent.com/a/default-user=s64",
      "userId": "13049187003176135487"
     },
     "user_tz": -540
    },
    "id": "YId5aWceMamG",
    "outputId": "09df29f1-4279-4b55-eb6d-82c306672076"
   },
   "outputs": [
    {
     "data": {
      "image/png": "[encoded data removed]",
      "text/plain": [
       "<Figure size 432x288 with 1 Axes>"
      ]
     },
     "metadata": {
      "needs_background": "light"
     },
     "output_type": "display_data"
    }
   ],
   "source": [
    "# sns.barplot는 두 범주의 평균 비교 sns.barplot\n",
    "sns.barplot(x=feature, y=target, data=boston)\n",
    "plt.show()"
   ]
  },
  {
   "cell_type": "markdown",
   "metadata": {
    "id": "HUR1fNrnMamG"
   },
   "source": [
    "2) 수치화 : t-test"
   ]
  },
  {
   "cell_type": "code",
   "execution_count": 17,
   "metadata": {
    "id": "-6TUCzJ7MamH"
   },
   "outputs": [],
   "source": [
    "chas0 = boston.loc[boston[feature]==0, target]\n",
    "chas1 = boston.loc[boston[feature]==1, target]"
   ]
  },
  {
   "cell_type": "code",
   "execution_count": 18,
   "metadata": {
    "colab": {
     "base_uri": "https://localhost:8080/"
    },
    "executionInfo": {
     "elapsed": 18,
     "status": "ok",
     "timestamp": 1641479920449,
     "user": {
      "displayName": "한기영",
      "photoUrl": "https://lh3.googleusercontent.com/a/default-user=s64",
      "userId": "13049187003176135487"
     },
     "user_tz": -540
    },
    "id": "scqidQ-dMamH",
    "outputId": "a8ed1221-c55a-453a-db7c-7536d6f129a8"
   },
   "outputs": [
    {
     "data": {
      "text/plain": [
       "Ttest_indResult(statistic=3.996437466090509, pvalue=7.390623170519905e-05)"
      ]
     },
     "execution_count": 18,
     "metadata": {},
     "output_type": "execute_result"
    }
   ],
   "source": [
    "spst.ttest_ind(chas1, chas0)"
   ]
  },
  {
   "cell_type": "markdown",
   "metadata": {
    "id": "luwasWzmMamH"
   },
   "source": [
    "3) 관계 평가하기"
   ]
  },
  {
   "cell_type": "markdown",
   "metadata": {
    "id": "WdgQeYkNMamH"
   },
   "source": [
    "* 차트와 가설검정의 결과로 볼때, 관계가 있으나 강하지는 않다."
   ]
  },
  {
   "cell_type": "markdown",
   "metadata": {
    "id": "zGFGjdf3Mr_g"
   },
   "source": [
    "#### ① zn2(대저택 비율 범주, 0,1,2) --> medv(집값)"
   ]
  },
  {
   "cell_type": "code",
   "execution_count": 19,
   "metadata": {
    "id": "gJz0Q5-rzADj"
   },
   "outputs": [],
   "source": [
    "feature = 'zn2'"
   ]
  },
  {
   "cell_type": "markdown",
   "metadata": {
    "id": "v7s5wk_nMr_h"
   },
   "source": [
    "1) 시각화 : 평균비교 barplot"
   ]
  },
  {
   "cell_type": "code",
   "execution_count": 20,
   "metadata": {
    "colab": {
     "base_uri": "https://localhost:8080/",
     "height": 279
    },
    "executionInfo": {
     "elapsed": 17,
     "status": "ok",
     "timestamp": 1641479921159,
     "user": {
      "displayName": "한기영",
      "photoUrl": "https://lh3.googleusercontent.com/a/default-user=s64",
      "userId": "13049187003176135487"
     },
     "user_tz": -540
    },
    "id": "PkPc0jDiMr_h",
    "outputId": "6168882f-bfb8-446a-93b3-20020c9adb25"
   },
   "outputs": [
    {
     "data": {
      "image/png": "[encoded data removed]",
      "text/plain": [
       "<Figure size 432x288 with 1 Axes>"
      ]
     },
     "metadata": {
      "needs_background": "light"
     },
     "output_type": "display_data"
    }
   ],
   "source": [
    "sns.barplot(x=feature, y=target, data=boston)\n",
    "plt.show()"
   ]
  },
  {
   "cell_type": "markdown",
   "metadata": {
    "id": "qF4JQPk4Mr_h"
   },
   "source": [
    "2) 수치화 : anova"
   ]
  },
  {
   "cell_type": "code",
   "execution_count": 21,
   "metadata": {
    "id": "Vpaw1e_kMr_h"
   },
   "outputs": [],
   "source": [
    "zn2_0 = boston.loc[boston[feature]==0, target]\n",
    "zn2_1 = boston.loc[boston[feature]==1, target]\n",
    "zn2_2 = boston.loc[boston[feature]==2, target]"
   ]
  },
  {
   "cell_type": "code",
   "execution_count": 22,
   "metadata": {
    "colab": {
     "base_uri": "https://localhost:8080/"
    },
    "executionInfo": {
     "elapsed": 18,
     "status": "ok",
     "timestamp": 1641479921161,
     "user": {
      "displayName": "한기영",
      "photoUrl": "https://lh3.googleusercontent.com/a/default-user=s64",
      "userId": "13049187003176135487"
     },
     "user_tz": -540
    },
    "id": "-vubCW4TMr_h",
    "outputId": "44c948c7-bf15-4503-98bd-57ebaf9d6dff"
   },
   "outputs": [
    {
     "data": {
      "text/plain": [
       "F_onewayResult(statistic=41.56175654117286, pvalue=1.9727794047741185e-17)"
      ]
     },
     "execution_count": 22,
     "metadata": {},
     "output_type": "execute_result"
    }
   ],
   "source": [
    "spst.f_oneway(zn2_0, zn2_1, zn2_2)"
   ]
  },
  {
   "cell_type": "markdown",
   "metadata": {
    "id": "wDGQD7C_Mr_h"
   },
   "source": [
    "3) 관계 평가하기"
   ]
  },
  {
   "cell_type": "markdown",
   "metadata": {
    "id": "C_IhBXxEMr_h"
   },
   "source": [
    "대 저택 비율과 집값은 강한 관계를 나타낸다."
   ]
  },
  {
   "cell_type": "markdown",
   "metadata": {
    "id": "wIx4QQ6yXXH6"
   },
   "source": [
    "### (3) 관계 정리하기"
   ]
  },
  {
   "cell_type": "markdown",
   "metadata": {
    "id": "oDI57G8jXaL8"
   },
   "source": [
    "① 강한관계"
   ]
  },
  {
   "cell_type": "markdown",
   "metadata": {
    "id": "PpbF9ZNCXcj1"
   },
   "source": [
    "lstat, ptratio2, zn2"
   ]
  },
  {
   "cell_type": "markdown",
   "metadata": {
    "id": "gPU2lG64XdNq"
   },
   "source": [
    "② 중간관계"
   ]
  },
  {
   "cell_type": "markdown",
   "metadata": {
    "id": "GpRexFXFXdNq"
   },
   "source": [
    "chas, crim"
   ]
  },
  {
   "cell_type": "markdown",
   "metadata": {},
   "source": [
    "### 데이터 준비"
   ]
  },
  {
   "cell_type": "code",
   "execution_count": 23,
   "metadata": {},
   "outputs": [
    {
     "data": {
      "text/plain": [
       "M    289\n",
       "H    201\n",
       "L     16\n",
       "Name: ptratio2, dtype: int64"
      ]
     },
     "execution_count": 23,
     "metadata": {},
     "output_type": "execute_result"
    }
   ],
   "source": [
    "boston['ptratio2'].value_counts()"
   ]
  },
  {
   "cell_type": "code",
   "execution_count": 24,
   "metadata": {},
   "outputs": [],
   "source": [
    "boston = pd.get_dummies(boston, columns=['ptratio2'], drop_first=True)"
   ]
  },
  {
   "cell_type": "code",
   "execution_count": 25,
   "metadata": {},
   "outputs": [
    {
     "data": {
      "text/html": [
       "<div>\n",
       "<style scoped>\n",
       "    .dataframe tbody tr th:only-of-type {\n",
       "        vertical-align: middle;\n",
       "    }\n",
       "\n",
       "    .dataframe tbody tr th {\n",
       "        vertical-align: top;\n",
       "    }\n",
       "\n",
       "    .dataframe thead th {\n",
       "        text-align: right;\n",
       "    }\n",
       "</style>\n",
       "<table border=\"1\" class=\"dataframe\">\n",
       "  <thead>\n",
       "    <tr style=\"text-align: right;\">\n",
       "      <th></th>\n",
       "      <th>crim</th>\n",
       "      <th>indus</th>\n",
       "      <th>chas</th>\n",
       "      <th>nox</th>\n",
       "      <th>rm</th>\n",
       "      <th>age</th>\n",
       "      <th>dis</th>\n",
       "      <th>rad</th>\n",
       "      <th>tax</th>\n",
       "      <th>ptratio</th>\n",
       "      <th>black</th>\n",
       "      <th>lstat</th>\n",
       "      <th>medv</th>\n",
       "      <th>zn2</th>\n",
       "      <th>ptratio2_M</th>\n",
       "      <th>ptratio2_H</th>\n",
       "    </tr>\n",
       "  </thead>\n",
       "  <tbody>\n",
       "    <tr>\n",
       "      <th>0</th>\n",
       "      <td>0.00632</td>\n",
       "      <td>2.31</td>\n",
       "      <td>0</td>\n",
       "      <td>0.538</td>\n",
       "      <td>6.575</td>\n",
       "      <td>65.2</td>\n",
       "      <td>4.0900</td>\n",
       "      <td>1</td>\n",
       "      <td>296</td>\n",
       "      <td>15.3</td>\n",
       "      <td>396.90</td>\n",
       "      <td>4.98</td>\n",
       "      <td>24.0</td>\n",
       "      <td>1</td>\n",
       "      <td>1</td>\n",
       "      <td>0</td>\n",
       "    </tr>\n",
       "    <tr>\n",
       "      <th>1</th>\n",
       "      <td>0.02731</td>\n",
       "      <td>7.07</td>\n",
       "      <td>0</td>\n",
       "      <td>0.469</td>\n",
       "      <td>6.421</td>\n",
       "      <td>78.9</td>\n",
       "      <td>4.9671</td>\n",
       "      <td>2</td>\n",
       "      <td>242</td>\n",
       "      <td>17.8</td>\n",
       "      <td>396.90</td>\n",
       "      <td>9.14</td>\n",
       "      <td>21.6</td>\n",
       "      <td>0</td>\n",
       "      <td>1</td>\n",
       "      <td>0</td>\n",
       "    </tr>\n",
       "    <tr>\n",
       "      <th>2</th>\n",
       "      <td>0.02729</td>\n",
       "      <td>7.07</td>\n",
       "      <td>0</td>\n",
       "      <td>0.469</td>\n",
       "      <td>7.185</td>\n",
       "      <td>61.1</td>\n",
       "      <td>4.9671</td>\n",
       "      <td>2</td>\n",
       "      <td>242</td>\n",
       "      <td>17.8</td>\n",
       "      <td>392.83</td>\n",
       "      <td>4.03</td>\n",
       "      <td>34.7</td>\n",
       "      <td>0</td>\n",
       "      <td>1</td>\n",
       "      <td>0</td>\n",
       "    </tr>\n",
       "    <tr>\n",
       "      <th>3</th>\n",
       "      <td>0.03237</td>\n",
       "      <td>2.18</td>\n",
       "      <td>0</td>\n",
       "      <td>0.458</td>\n",
       "      <td>6.998</td>\n",
       "      <td>45.8</td>\n",
       "      <td>6.0622</td>\n",
       "      <td>3</td>\n",
       "      <td>222</td>\n",
       "      <td>18.7</td>\n",
       "      <td>394.63</td>\n",
       "      <td>2.94</td>\n",
       "      <td>33.4</td>\n",
       "      <td>0</td>\n",
       "      <td>1</td>\n",
       "      <td>0</td>\n",
       "    </tr>\n",
       "    <tr>\n",
       "      <th>4</th>\n",
       "      <td>0.06905</td>\n",
       "      <td>2.18</td>\n",
       "      <td>0</td>\n",
       "      <td>0.458</td>\n",
       "      <td>7.147</td>\n",
       "      <td>54.2</td>\n",
       "      <td>6.0622</td>\n",
       "      <td>3</td>\n",
       "      <td>222</td>\n",
       "      <td>18.7</td>\n",
       "      <td>396.90</td>\n",
       "      <td>5.33</td>\n",
       "      <td>36.2</td>\n",
       "      <td>0</td>\n",
       "      <td>1</td>\n",
       "      <td>0</td>\n",
       "    </tr>\n",
       "  </tbody>\n",
       "</table>\n",
       "</div>"
      ],
      "text/plain": [
       "      crim  indus  chas    nox     rm   age     dis  rad  tax  ptratio  \\\n",
       "0  0.00632   2.31     0  0.538  6.575  65.2  4.0900    1  296     15.3   \n",
       "1  0.02731   7.07     0  0.469  6.421  78.9  4.9671    2  242     17.8   \n",
       "2  0.02729   7.07     0  0.469  7.185  61.1  4.9671    2  242     17.8   \n",
       "3  0.03237   2.18     0  0.458  6.998  45.8  6.0622    3  222     18.7   \n",
       "4  0.06905   2.18     0  0.458  7.147  54.2  6.0622    3  222     18.7   \n",
       "\n",
       "    black  lstat  medv  zn2  ptratio2_M  ptratio2_H  \n",
       "0  396.90   4.98  24.0    1           1           0  \n",
       "1  396.90   9.14  21.6    0           1           0  \n",
       "2  392.83   4.03  34.7    0           1           0  \n",
       "3  394.63   2.94  33.4    0           1           0  \n",
       "4  396.90   5.33  36.2    0           1           0  "
      ]
     },
     "execution_count": 25,
     "metadata": {},
     "output_type": "execute_result"
    }
   ],
   "source": [
    "boston.head()"
   ]
  },
  {
   "cell_type": "code",
   "execution_count": 26,
   "metadata": {},
   "outputs": [],
   "source": [
    "# target 확인\n",
    "target = 'medv'\n",
    "\n",
    "# 데이터 분리\n",
    "x = boston.drop(target, axis=1)\n",
    "y = boston[target]"
   ]
  },
  {
   "cell_type": "code",
   "execution_count": 27,
   "metadata": {},
   "outputs": [
    {
     "data": {
      "text/html": [
       "<div>\n",
       "<style scoped>\n",
       "    .dataframe tbody tr th:only-of-type {\n",
       "        vertical-align: middle;\n",
       "    }\n",
       "\n",
       "    .dataframe tbody tr th {\n",
       "        vertical-align: top;\n",
       "    }\n",
       "\n",
       "    .dataframe thead th {\n",
       "        text-align: right;\n",
       "    }\n",
       "</style>\n",
       "<table border=\"1\" class=\"dataframe\">\n",
       "  <thead>\n",
       "    <tr style=\"text-align: right;\">\n",
       "      <th></th>\n",
       "      <th>crim</th>\n",
       "      <th>indus</th>\n",
       "      <th>chas</th>\n",
       "      <th>nox</th>\n",
       "      <th>rm</th>\n",
       "      <th>age</th>\n",
       "      <th>dis</th>\n",
       "      <th>rad</th>\n",
       "      <th>tax</th>\n",
       "      <th>ptratio</th>\n",
       "      <th>black</th>\n",
       "      <th>lstat</th>\n",
       "      <th>zn2</th>\n",
       "      <th>ptratio2_M</th>\n",
       "      <th>ptratio2_H</th>\n",
       "    </tr>\n",
       "  </thead>\n",
       "  <tbody>\n",
       "    <tr>\n",
       "      <th>0</th>\n",
       "      <td>0.00632</td>\n",
       "      <td>2.31</td>\n",
       "      <td>0</td>\n",
       "      <td>0.538</td>\n",
       "      <td>6.575</td>\n",
       "      <td>65.2</td>\n",
       "      <td>4.0900</td>\n",
       "      <td>1</td>\n",
       "      <td>296</td>\n",
       "      <td>15.3</td>\n",
       "      <td>396.90</td>\n",
       "      <td>4.98</td>\n",
       "      <td>1</td>\n",
       "      <td>1</td>\n",
       "      <td>0</td>\n",
       "    </tr>\n",
       "    <tr>\n",
       "      <th>1</th>\n",
       "      <td>0.02731</td>\n",
       "      <td>7.07</td>\n",
       "      <td>0</td>\n",
       "      <td>0.469</td>\n",
       "      <td>6.421</td>\n",
       "      <td>78.9</td>\n",
       "      <td>4.9671</td>\n",
       "      <td>2</td>\n",
       "      <td>242</td>\n",
       "      <td>17.8</td>\n",
       "      <td>396.90</td>\n",
       "      <td>9.14</td>\n",
       "      <td>0</td>\n",
       "      <td>1</td>\n",
       "      <td>0</td>\n",
       "    </tr>\n",
       "    <tr>\n",
       "      <th>2</th>\n",
       "      <td>0.02729</td>\n",
       "      <td>7.07</td>\n",
       "      <td>0</td>\n",
       "      <td>0.469</td>\n",
       "      <td>7.185</td>\n",
       "      <td>61.1</td>\n",
       "      <td>4.9671</td>\n",
       "      <td>2</td>\n",
       "      <td>242</td>\n",
       "      <td>17.8</td>\n",
       "      <td>392.83</td>\n",
       "      <td>4.03</td>\n",
       "      <td>0</td>\n",
       "      <td>1</td>\n",
       "      <td>0</td>\n",
       "    </tr>\n",
       "    <tr>\n",
       "      <th>3</th>\n",
       "      <td>0.03237</td>\n",
       "      <td>2.18</td>\n",
       "      <td>0</td>\n",
       "      <td>0.458</td>\n",
       "      <td>6.998</td>\n",
       "      <td>45.8</td>\n",
       "      <td>6.0622</td>\n",
       "      <td>3</td>\n",
       "      <td>222</td>\n",
       "      <td>18.7</td>\n",
       "      <td>394.63</td>\n",
       "      <td>2.94</td>\n",
       "      <td>0</td>\n",
       "      <td>1</td>\n",
       "      <td>0</td>\n",
       "    </tr>\n",
       "    <tr>\n",
       "      <th>4</th>\n",
       "      <td>0.06905</td>\n",
       "      <td>2.18</td>\n",
       "      <td>0</td>\n",
       "      <td>0.458</td>\n",
       "      <td>7.147</td>\n",
       "      <td>54.2</td>\n",
       "      <td>6.0622</td>\n",
       "      <td>3</td>\n",
       "      <td>222</td>\n",
       "      <td>18.7</td>\n",
       "      <td>396.90</td>\n",
       "      <td>5.33</td>\n",
       "      <td>0</td>\n",
       "      <td>1</td>\n",
       "      <td>0</td>\n",
       "    </tr>\n",
       "    <tr>\n",
       "      <th>...</th>\n",
       "      <td>...</td>\n",
       "      <td>...</td>\n",
       "      <td>...</td>\n",
       "      <td>...</td>\n",
       "      <td>...</td>\n",
       "      <td>...</td>\n",
       "      <td>...</td>\n",
       "      <td>...</td>\n",
       "      <td>...</td>\n",
       "      <td>...</td>\n",
       "      <td>...</td>\n",
       "      <td>...</td>\n",
       "      <td>...</td>\n",
       "      <td>...</td>\n",
       "      <td>...</td>\n",
       "    </tr>\n",
       "    <tr>\n",
       "      <th>501</th>\n",
       "      <td>0.06263</td>\n",
       "      <td>11.93</td>\n",
       "      <td>0</td>\n",
       "      <td>0.573</td>\n",
       "      <td>6.593</td>\n",
       "      <td>69.1</td>\n",
       "      <td>2.4786</td>\n",
       "      <td>1</td>\n",
       "      <td>273</td>\n",
       "      <td>21.0</td>\n",
       "      <td>391.99</td>\n",
       "      <td>9.67</td>\n",
       "      <td>0</td>\n",
       "      <td>0</td>\n",
       "      <td>1</td>\n",
       "    </tr>\n",
       "    <tr>\n",
       "      <th>502</th>\n",
       "      <td>0.04527</td>\n",
       "      <td>11.93</td>\n",
       "      <td>0</td>\n",
       "      <td>0.573</td>\n",
       "      <td>6.120</td>\n",
       "      <td>76.7</td>\n",
       "      <td>2.2875</td>\n",
       "      <td>1</td>\n",
       "      <td>273</td>\n",
       "      <td>21.0</td>\n",
       "      <td>396.90</td>\n",
       "      <td>9.08</td>\n",
       "      <td>0</td>\n",
       "      <td>0</td>\n",
       "      <td>1</td>\n",
       "    </tr>\n",
       "    <tr>\n",
       "      <th>503</th>\n",
       "      <td>0.06076</td>\n",
       "      <td>11.93</td>\n",
       "      <td>0</td>\n",
       "      <td>0.573</td>\n",
       "      <td>6.976</td>\n",
       "      <td>91.0</td>\n",
       "      <td>2.1675</td>\n",
       "      <td>1</td>\n",
       "      <td>273</td>\n",
       "      <td>21.0</td>\n",
       "      <td>396.90</td>\n",
       "      <td>5.64</td>\n",
       "      <td>0</td>\n",
       "      <td>0</td>\n",
       "      <td>1</td>\n",
       "    </tr>\n",
       "    <tr>\n",
       "      <th>504</th>\n",
       "      <td>0.10959</td>\n",
       "      <td>11.93</td>\n",
       "      <td>0</td>\n",
       "      <td>0.573</td>\n",
       "      <td>6.794</td>\n",
       "      <td>89.3</td>\n",
       "      <td>2.3889</td>\n",
       "      <td>1</td>\n",
       "      <td>273</td>\n",
       "      <td>21.0</td>\n",
       "      <td>393.45</td>\n",
       "      <td>6.48</td>\n",
       "      <td>0</td>\n",
       "      <td>0</td>\n",
       "      <td>1</td>\n",
       "    </tr>\n",
       "    <tr>\n",
       "      <th>505</th>\n",
       "      <td>0.04741</td>\n",
       "      <td>11.93</td>\n",
       "      <td>0</td>\n",
       "      <td>0.573</td>\n",
       "      <td>6.030</td>\n",
       "      <td>80.8</td>\n",
       "      <td>2.5050</td>\n",
       "      <td>1</td>\n",
       "      <td>273</td>\n",
       "      <td>21.0</td>\n",
       "      <td>396.90</td>\n",
       "      <td>7.88</td>\n",
       "      <td>0</td>\n",
       "      <td>0</td>\n",
       "      <td>1</td>\n",
       "    </tr>\n",
       "  </tbody>\n",
       "</table>\n",
       "<p>506 rows × 15 columns</p>\n",
       "</div>"
      ],
      "text/plain": [
       "        crim  indus  chas    nox     rm   age     dis  rad  tax  ptratio  \\\n",
       "0    0.00632   2.31     0  0.538  6.575  65.2  4.0900    1  296     15.3   \n",
       "1    0.02731   7.07     0  0.469  6.421  78.9  4.9671    2  242     17.8   \n",
       "2    0.02729   7.07     0  0.469  7.185  61.1  4.9671    2  242     17.8   \n",
       "3    0.03237   2.18     0  0.458  6.998  45.8  6.0622    3  222     18.7   \n",
       "4    0.06905   2.18     0  0.458  7.147  54.2  6.0622    3  222     18.7   \n",
       "..       ...    ...   ...    ...    ...   ...     ...  ...  ...      ...   \n",
       "501  0.06263  11.93     0  0.573  6.593  69.1  2.4786    1  273     21.0   \n",
       "502  0.04527  11.93     0  0.573  6.120  76.7  2.2875    1  273     21.0   \n",
       "503  0.06076  11.93     0  0.573  6.976  91.0  2.1675    1  273     21.0   \n",
       "504  0.10959  11.93     0  0.573  6.794  89.3  2.3889    1  273     21.0   \n",
       "505  0.04741  11.93     0  0.573  6.030  80.8  2.5050    1  273     21.0   \n",
       "\n",
       "      black  lstat  zn2  ptratio2_M  ptratio2_H  \n",
       "0    396.90   4.98    1           1           0  \n",
       "1    396.90   9.14    0           1           0  \n",
       "2    392.83   4.03    0           1           0  \n",
       "3    394.63   2.94    0           1           0  \n",
       "4    396.90   5.33    0           1           0  \n",
       "..      ...    ...  ...         ...         ...  \n",
       "501  391.99   9.67    0           0           1  \n",
       "502  396.90   9.08    0           0           1  \n",
       "503  396.90   5.64    0           0           1  \n",
       "504  393.45   6.48    0           0           1  \n",
       "505  396.90   7.88    0           0           1  \n",
       "\n",
       "[506 rows x 15 columns]"
      ]
     },
     "execution_count": 27,
     "metadata": {},
     "output_type": "execute_result"
    }
   ],
   "source": [
    "x"
   ]
  },
  {
   "cell_type": "code",
   "execution_count": 28,
   "metadata": {},
   "outputs": [],
   "source": [
    "# 정규화\n",
    "x = (x - x.min()) / (x.max() - x.min())"
   ]
  },
  {
   "cell_type": "code",
   "execution_count": 30,
   "metadata": {},
   "outputs": [],
   "source": [
    "# 모듈 불러오기\n",
    "from sklearn.model_selection import train_test_split\n",
    "\n",
    "# 7:3으로 분리\n",
    "x_train, x_test, y_train, y_test = train_test_split(\n",
    "    x, y, test_size=0.3, random_state=2022)"
   ]
  },
  {
   "cell_type": "markdown",
   "metadata": {},
   "source": [
    "### Linear Regression"
   ]
  },
  {
   "cell_type": "code",
   "execution_count": 31,
   "metadata": {},
   "outputs": [],
   "source": [
    "from sklearn.linear_model import LinearRegression\n",
    "from sklearn.metrics import mean_absolute_error, r2_score\n",
    "from sklearn.model_selection import cross_val_score, KFold, StratifiedKFold"
   ]
  },
  {
   "cell_type": "code",
   "execution_count": 32,
   "metadata": {},
   "outputs": [],
   "source": [
    "# 선언하기\n",
    "model = LinearRegression()"
   ]
  },
  {
   "cell_type": "code",
   "execution_count": 33,
   "metadata": {},
   "outputs": [],
   "source": [
    "# 성능검증\n",
    "cv_score = cross_val_score(model, x_train, y_train, cv=10)"
   ]
  },
  {
   "cell_type": "code",
   "execution_count": 34,
   "metadata": {},
   "outputs": [],
   "source": [
    "# 결과수집\n",
    "result = {}\n",
    "result['Linear Regression'] = cv_score.mean()"
   ]
  },
  {
   "cell_type": "markdown",
   "metadata": {},
   "source": [
    "### KNN"
   ]
  },
  {
   "cell_type": "code",
   "execution_count": 35,
   "metadata": {},
   "outputs": [],
   "source": [
    "from sklearn.neighbors import KNeighborsRegressor"
   ]
  },
  {
   "cell_type": "code",
   "execution_count": 36,
   "metadata": {},
   "outputs": [],
   "source": [
    "model = KNeighborsRegressor()"
   ]
  },
  {
   "cell_type": "code",
   "execution_count": 37,
   "metadata": {},
   "outputs": [],
   "source": [
    "cv_score = cross_val_score(model, x_train, y_train, cv=10)"
   ]
  },
  {
   "cell_type": "code",
   "execution_count": 38,
   "metadata": {},
   "outputs": [],
   "source": [
    "result['KNN'] = cv_score.mean()"
   ]
  },
  {
   "cell_type": "markdown",
   "metadata": {},
   "source": [
    "### Decision Tree"
   ]
  },
  {
   "cell_type": "code",
   "execution_count": 39,
   "metadata": {},
   "outputs": [],
   "source": [
    "from sklearn.tree import DecisionTreeRegressor"
   ]
  },
  {
   "cell_type": "code",
   "execution_count": 40,
   "metadata": {},
   "outputs": [],
   "source": [
    "model = DecisionTreeRegressor(random_state=2022)"
   ]
  },
  {
   "cell_type": "code",
   "execution_count": 41,
   "metadata": {},
   "outputs": [],
   "source": [
    "cv_score = cross_val_score(model, x_train, y_train, cv=10)"
   ]
  },
  {
   "cell_type": "code",
   "execution_count": 42,
   "metadata": {},
   "outputs": [],
   "source": [
    "# 결과수집\n",
    "result['Decision Tree'] = cv_score.mean()"
   ]
  },
  {
   "cell_type": "markdown",
   "metadata": {},
   "source": [
    "### SVM"
   ]
  },
  {
   "cell_type": "code",
   "execution_count": 43,
   "metadata": {},
   "outputs": [],
   "source": [
    "from sklearn.svm import SVR"
   ]
  },
  {
   "cell_type": "code",
   "execution_count": 44,
   "metadata": {},
   "outputs": [],
   "source": [
    "model = SVR()"
   ]
  },
  {
   "cell_type": "code",
   "execution_count": 45,
   "metadata": {},
   "outputs": [],
   "source": [
    "cv_score = cross_val_score(model, x_train, y_train, cv=10)"
   ]
  },
  {
   "cell_type": "code",
   "execution_count": 46,
   "metadata": {},
   "outputs": [],
   "source": [
    "# 결과수집\n",
    "result['SVR'] = cv_score.mean()"
   ]
  },
  {
   "cell_type": "markdown",
   "metadata": {},
   "source": [
    "### Random Forest"
   ]
  },
  {
   "cell_type": "code",
   "execution_count": 47,
   "metadata": {},
   "outputs": [],
   "source": [
    "from sklearn.ensemble import RandomForestRegressor"
   ]
  },
  {
   "cell_type": "code",
   "execution_count": 48,
   "metadata": {},
   "outputs": [],
   "source": [
    "model = RandomForestRegressor(random_state=2022)"
   ]
  },
  {
   "cell_type": "code",
   "execution_count": 49,
   "metadata": {},
   "outputs": [],
   "source": [
    "cv_score = cross_val_score(model, x_train, y_train, cv=10)"
   ]
  },
  {
   "cell_type": "code",
   "execution_count": 50,
   "metadata": {},
   "outputs": [],
   "source": [
    "result['Random Forest'] = cv_score.mean()"
   ]
  },
  {
   "cell_type": "markdown",
   "metadata": {},
   "source": [
    "### XGBoost"
   ]
  },
  {
   "cell_type": "code",
   "execution_count": 51,
   "metadata": {},
   "outputs": [],
   "source": [
    "from xgboost import XGBRegressor"
   ]
  },
  {
   "cell_type": "code",
   "execution_count": 52,
   "metadata": {},
   "outputs": [],
   "source": [
    "model = XGBRegressor(random_state=2022)"
   ]
  },
  {
   "cell_type": "code",
   "execution_count": 53,
   "metadata": {},
   "outputs": [],
   "source": [
    "cv_score = cross_val_score(model, x_train, y_train, cv=10)"
   ]
  },
  {
   "cell_type": "code",
   "execution_count": 54,
   "metadata": {},
   "outputs": [],
   "source": [
    "result['XGBoost'] = cv_score.mean()"
   ]
  },
  {
   "cell_type": "code",
   "execution_count": 55,
   "metadata": {},
   "outputs": [
    {
     "name": "stdout",
     "output_type": "stream",
     "text": [
      "========================================\n",
      "Linear Regression 0.694\n",
      "KNN 0.604\n",
      "Decision Tree 0.671\n",
      "SVR 0.477\n",
      "Random Forest 0.861\n",
      "XGBoost 0.861\n",
      "========================================\n"
     ]
    }
   ],
   "source": [
    "print('=' * 40)\n",
    "for m_name, score in result.items():\n",
    "    print(m_name, score.round(3))\n",
    "print('=' * 40)"
   ]
  },
  {
   "cell_type": "markdown",
   "metadata": {},
   "source": [
    "### 모델 최적화"
   ]
  },
  {
   "cell_type": "code",
   "execution_count": 56,
   "metadata": {},
   "outputs": [],
   "source": [
    "from sklearn.model_selection import GridSearchCV"
   ]
  },
  {
   "cell_type": "code",
   "execution_count": 57,
   "metadata": {},
   "outputs": [],
   "source": [
    "param = {'max_depth': range(3, 11),\n",
    "         'n_estimators': range(50, 111, 10)\n",
    "        }\n",
    "\n",
    "model_xgb = XGBRegressor(random_state=2022)\n",
    "\n",
    "model = GridSearchCV(model_xgb,\n",
    "                     param,\n",
    "                     cv=5,\n",
    "                     scoring='r2'\n",
    "                    )"
   ]
  },
  {
   "cell_type": "code",
   "execution_count": 58,
   "metadata": {},
   "outputs": [
    {
     "data": {
      "text/plain": [
       "GridSearchCV(cv=5,\n",
       "             estimator=XGBRegressor(base_score=None, booster=None,\n",
       "                                    colsample_bylevel=None,\n",
       "                                    colsample_bynode=None,\n",
       "                                    colsample_bytree=None,\n",
       "                                    enable_categorical=False, gamma=None,\n",
       "                                    gpu_id=None, importance_type=None,\n",
       "                                    interaction_constraints=None,\n",
       "                                    learning_rate=None, max_delta_step=None,\n",
       "                                    max_depth=None, min_child_weight=None,\n",
       "                                    missing=nan, monotone_constraints=None,\n",
       "                                    n_estimators=100, n_jobs=None,\n",
       "                                    num_parallel_tree=None, predictor=None,\n",
       "                                    random_state=2022, reg_alpha=None,\n",
       "                                    reg_lambda=None, scale_pos_weight=None,\n",
       "                                    subsample=None, tree_method=None,\n",
       "                                    validate_parameters=None, verbosity=None),\n",
       "             param_grid={'max_depth': range(3, 11),\n",
       "                         'n_estimators': range(50, 111, 10)},\n",
       "             scoring='r2')"
      ]
     },
     "execution_count": 58,
     "metadata": {},
     "output_type": "execute_result"
    }
   ],
   "source": [
    "model.fit(x_train, y_train)"
   ]
  },
  {
   "cell_type": "code",
   "execution_count": 59,
   "metadata": {},
   "outputs": [
    {
     "name": "stdout",
     "output_type": "stream",
     "text": [
      "최적 파라미터 : {'max_depth': 4, 'n_estimators': 50}\n",
      "성능 확인 : 0.8769348063003652\n"
     ]
    }
   ],
   "source": [
    "print('최적 파라미터 :', model.best_params_)\n",
    "print('성능 확인 :', model.best_score_)"
   ]
  },
  {
   "cell_type": "code",
   "execution_count": 60,
   "metadata": {},
   "outputs": [],
   "source": [
    "y_pred = model.predict(x_test)"
   ]
  },
  {
   "cell_type": "code",
   "execution_count": 61,
   "metadata": {},
   "outputs": [
    {
     "name": "stdout",
     "output_type": "stream",
     "text": [
      "MAE : 2.3949668369795147\n",
      "r2 score : 0.8580098763779855\n"
     ]
    }
   ],
   "source": [
    "print('MAE :', mean_absolute_error(y_test, y_pred))\n",
    "print('r2 score :', r2_score(y_test, y_pred))"
   ]
  }
 ],
 "metadata": {
  "colab": {
   "collapsed_sections": [
    "5ZbpQQrXPdOm",
    "bBRhuVPyf4td"
   ],
   "name": "14과 이변량분석_종합실습_답.ipynb",
   "provenance": [],
   "toc_visible": true
  },
  "kernelspec": {
   "display_name": "Python 3",
   "language": "python",
   "name": "python3"
  },
  "language_info": {
   "codemirror_mode": {
    "name": "ipython",
    "version": 3
   },
   "file_extension": ".py",
   "mimetype": "text/x-python",
   "name": "python",
   "nbconvert_exporter": "python",
   "pygments_lexer": "ipython3",
   "version": "3.8.8"
  },
  "toc": {
   "base_numbering": 1,
   "nav_menu": {},
   "number_sections": true,
   "sideBar": true,
   "skip_h1_title": false,
   "title_cell": "Table of Contents",
   "title_sidebar": "Contents",
   "toc_cell": false,
   "toc_position": {},
   "toc_section_display": true,
   "toc_window_display": false
  }
 },
 "nbformat": 4,
 "nbformat_minor": 1
}
